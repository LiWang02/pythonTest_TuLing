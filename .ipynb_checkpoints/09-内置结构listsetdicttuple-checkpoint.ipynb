{
 "cells": [
  {
   "cell_type": "code",
   "execution_count": 1,
   "metadata": {},
   "outputs": [
    {
     "name": "stdout",
     "output_type": "stream",
     "text": [
      "(1, 2, 4, 5, 6)\n",
      "5\n"
     ]
    }
   ],
   "source": [
    "#元组：可以看做是一个不可被更改的List\n",
    "#程序列表，有序\n",
    "#元组数据值可以访问，不能修改，不能修改\n",
    "#元组数据可以是任意类型\n",
    "#总之，list的所有特性，除了可修改，元组具有的一些操作，比如索引，相乘，成员资格操作等，一模一样\n",
    "a=(1,2,4,5,6)\n",
    "print(a)\n",
    "print(a[3])\n"
   ]
  },
  {
   "cell_type": "code",
   "execution_count": 5,
   "metadata": {},
   "outputs": [
    {
     "name": "stdout",
     "output_type": "stream",
     "text": [
      "1491725159112\n",
      "1491725263304\n",
      "[2, 4, 6, 8]\n",
      "[2]\n"
     ]
    }
   ],
   "source": [
    "t=[1,2,3,4,5,6,7,8]\n",
    "t1=t[1::2]\n",
    "print(id(t))\n",
    "print(id(t1))\n",
    "print(t1)\n",
    "#切片可以超标\n",
    "t3=t[1::100]\n",
    "print(t3)"
   ]
  },
  {
   "cell_type": "code",
   "execution_count": 6,
   "metadata": {},
   "outputs": [
    {
     "name": "stdout",
     "output_type": "stream",
     "text": [
      "1491725330904\n",
      "1491724832056\n",
      "1491725700264\n"
     ]
    }
   ],
   "source": [
    "t1=(1,2,3)\n",
    "t2=(4,5,6)\n",
    "print(id(t1))\n",
    "print(id(t2))\n",
    "t1=t1+t2\n",
    "print(id(t1))"
   ]
  },
  {
   "cell_type": "code",
   "execution_count": 8,
   "metadata": {},
   "outputs": [
    {
     "name": "stdout",
     "output_type": "stream",
     "text": [
      "1 2 3 4 dfgfdg "
     ]
    }
   ],
   "source": [
    "#单层元组的遍历\n",
    "t=(1,2,3,4,\"dfgfdg\")\n",
    "for i in t:\n",
    "    print(i,end=\" \")\n",
    "    "
   ]
  },
  {
   "cell_type": "code",
   "execution_count": 10,
   "metadata": {},
   "outputs": [
    {
     "name": "stdout",
     "output_type": "stream",
     "text": [
      "(12, 3)\n",
      "('dfgfdg', 'dfgdfg')\n",
      "(3, 4)\n",
      "12 3\n",
      "dfgfdg dfgdfg\n",
      "3 4\n"
     ]
    }
   ],
   "source": [
    "t=((12,3),(\"dfgfdg\",\"dfgdfg\"),(3,4))\n",
    "for i in t:\n",
    "    print(i)\n",
    "for k,m in t:\n",
    "    print(k,m)"
   ]
  },
  {
   "cell_type": "code",
   "execution_count": 11,
   "metadata": {},
   "outputs": [
    {
     "name": "stdout",
     "output_type": "stream",
     "text": [
      "<class 'set'>\n"
     ]
    }
   ],
   "source": [
    "#集合的定义\n",
    "s=set()\n",
    "print(type(s))\n",
    "s={1,2,4,5}\n"
   ]
  },
  {
   "cell_type": "code",
   "execution_count": 3,
   "metadata": {},
   "outputs": [
    {
     "name": "stdout",
     "output_type": "stream",
     "text": [
      "{'ereret', 1, 2}\n"
     ]
    }
   ],
   "source": [
    "#集合的特征：\n",
    "#集合内数据无序，无法用索引和切片\n",
    "#集合内部数据元素具有唯一性，可以用来排出重复数据\n",
    "#集合内的数据，str，int，float，tuple等，即内部只能放置可哈希数据\n",
    "s={1,2,\"ereret\"}\n",
    "print(s)"
   ]
  },
  {
   "cell_type": "code",
   "execution_count": 4,
   "metadata": {},
   "outputs": [
    {
     "name": "stdout",
     "output_type": "stream",
     "text": [
      "{4, 5, 6, 23}\n",
      "{4, 5, 6, 23}\n"
     ]
    }
   ],
   "source": [
    "#集合的遍历操作\n",
    "#集合的内涵\n",
    "s={23,23,23,4,5,6}\n",
    "print(s)\n",
    "ss={i for i in s}\n",
    "print(ss)\n"
   ]
  },
  {
   "cell_type": "code",
   "execution_count": 5,
   "metadata": {},
   "outputs": [
    {
     "name": "stdout",
     "output_type": "stream",
     "text": [
      "{'ii', 'lovelove'}\n"
     ]
    }
   ],
   "source": [
    "s1={1,2,3,4}\n",
    "s2={\"i\",\"love\"}\n",
    "s={m*n for m in s2 for n in s1 if n==2}\n",
    "print(s)"
   ]
  },
  {
   "cell_type": "code",
   "execution_count": 6,
   "metadata": {},
   "outputs": [
    {
     "name": "stdout",
     "output_type": "stream",
     "text": [
      "1923531920776\n",
      "1923531920776\n"
     ]
    }
   ],
   "source": [
    "#clear 只清空数据\n",
    "s={1,2,3}\n",
    "print(id(s))\n",
    "s.clear()\n",
    "print(id(s))"
   ]
  },
  {
   "cell_type": "code",
   "execution_count": 7,
   "metadata": {},
   "outputs": [
    {
     "name": "stdout",
     "output_type": "stream",
     "text": [
      "{1, 2, 3, 5, 6, 7}\n"
     ]
    }
   ],
   "source": [
    "#copyfuzhi \n",
    "#remove移除指定的值，直接改变原有值，如果要移除的值不存在，报错\n",
    "#discard移除集合中指定的值，跟remove一样，但是移除的值不存在，不报错\n",
    "s={1,2,3,4,5,6,7}\n",
    "s.remove(4)\n",
    "print(s)\n"
   ]
  },
  {
   "cell_type": "code",
   "execution_count": 8,
   "metadata": {},
   "outputs": [],
   "source": [
    "#集合函数\n",
    "#交集：intersection\n",
    "#差集difference\n",
    "#并集union\n",
    "#issubset：检查一个结合是否为另一个子集\n",
    "#issuperset：检查一个结合是否为另一个集合的超集\n"
   ]
  },
  {
   "cell_type": "code",
   "execution_count": 9,
   "metadata": {},
   "outputs": [],
   "source": [
    "#frozen set:冰冻集合,不能进行任何修改的集合，只是一种特殊的集合\n",
    "#创建\n",
    "s=frozenset()\n"
   ]
  },
  {
   "cell_type": "code",
   "execution_count": 10,
   "metadata": {},
   "outputs": [],
   "source": [
    "#dict字典\n",
    "#字典是一种组合数据，没有顺序的组合数据，数据以键值对形式存在\n",
    "#空字典的创建\n",
    "d={}\n",
    "d1=dict()\n"
   ]
  },
  {
   "cell_type": "code",
   "execution_count": 16,
   "metadata": {},
   "outputs": [
    {
     "name": "stdout",
     "output_type": "stream",
     "text": [
      "<class 'dict'>\n",
      "{'one': 1, 'two': 2, 'three': 3}\n",
      "{'one': 1, 'two': 2}\n"
     ]
    }
   ],
   "source": [
    "#有值的字典的创建\n",
    "d={\"one\":1,\"two\":2,\"three\":3}\n",
    "print(type(d))\n",
    "print(d)\n",
    "d1=dict(one=1,two=2)\n",
    "print(d1)"
   ]
  },
  {
   "cell_type": "code",
   "execution_count": 17,
   "metadata": {},
   "outputs": [],
   "source": [
    "#字典的特征：无序所以没有分片，没有索引\n",
    "#里边每个数据都是键值对组成\n",
    "#key：必须是可哈希的，比如是int，float，tuple，但是list，set，dict不行\n",
    "#value任何值都无所谓\n"
   ]
  },
  {
   "cell_type": "code",
   "execution_count": 20,
   "metadata": {},
   "outputs": [
    {
     "name": "stdout",
     "output_type": "stream",
     "text": [
      "1\n"
     ]
    }
   ],
   "source": [
    "d={\"one\":1,\"two\":2,\"three\":3}\n",
    "print(d[\"one\"])\n",
    "d[\"one\"]=5\n",
    "del d[\"one\"]"
   ]
  },
  {
   "cell_type": "code",
   "execution_count": null,
   "metadata": {},
   "outputs": [],
   "source": [
    "#成员检测，检测的是key\n"
   ]
  }
 ],
 "metadata": {
  "kernelspec": {
   "display_name": "Python 3",
   "language": "python",
   "name": "python3"
  },
  "language_info": {
   "codemirror_mode": {
    "name": "ipython",
    "version": 3
   },
   "file_extension": ".py",
   "mimetype": "text/x-python",
   "name": "python",
   "nbconvert_exporter": "python",
   "pygments_lexer": "ipython3",
   "version": "3.6.1"
  }
 },
 "nbformat": 4,
 "nbformat_minor": 2
}
